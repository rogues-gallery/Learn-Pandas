{
 "cells": [
  {
   "cell_type": "markdown",
   "metadata": {},
   "source": [
    "# Indexing - Selecting subsets of data\n",
    "**Indexing** or **selecting subsets of data** is one of the most confusing aspects to pandas, which is unfortunate, because it is something done so frequently. There is so much to selecting subsets of data that I have dedicated a [7-part series](https://medium.com/dunder-data/selecting-subsets-of-data-in-pandas-6fcd0170be9c) to it.\n",
    "\n",
    "Reasons why selecting subsets of data is confusing:\n",
    "* **Indexing** is a confusing term. **Selecting subsets of data** is more descriptive\n",
    "* Each row and column may be referenced by either their **label** or **integer location**\n",
    "* This dual reference capability is powerful but confusing\n",
    "* The documentation uses the term **position** instead of the more descriptive **integer location**. The indexer **`.iloc`** is an abbreviation of integer location. \n",
    "* There are six indexers, **`[]`**, **`.iloc`**, **`.loc`**, **`.ix`**, **`.at`**, **`.iat`**, that each do something different\n",
    "* **`.ix`** has recently been deprecated in favor of **`.loc`** and **`.iloc`**, but old Stack Overflow answers and tutorials still show it. New questions get asked each day that use this horrible indexer.\n",
    "\n",
    "### Getting help on `[]`, `.iloc`, `loc`\n",
    "If you struggle with these indexers, I encourage you to read my detailed notebook with many practice exercises. [Selecting subsets of Data in Pandas with Exercises](../Selecting%20Subsets%20of%20Data%20in%20Pandas%20part%201.ipynb)\n",
    "\n",
    "# `.ix` deprecation\n",
    "One of the largest changes to the pandas API was the deprecation of the **`.ix`** indexer in version 0.20. The **`.ix`** indexer was versatile, ambiguous, and confusing and personally, I was very excited to see its deprecation. \n",
    "\n",
    "**`ix`** was able to select subsets of data by both label and integer location. For instance, if we wanted to select the math and verbal SAT scores for schools with integer location of 5, 505, and 1301 we could do the following:"
   ]
  },
  {
   "cell_type": "code",
   "execution_count": null,
   "metadata": {
    "collapsed": true
   },
   "outputs": [],
   "source": [
    "import pandas as pd\n",
    "import numpy as np"
   ]
  },
  {
   "cell_type": "code",
   "execution_count": null,
   "metadata": {
    "collapsed": true
   },
   "outputs": [],
   "source": [
    "college = pd.read_csv('../data/college.csv', index_col=0)"
   ]
  },
  {
   "cell_type": "code",
   "execution_count": null,
   "metadata": {},
   "outputs": [],
   "source": [
    "# This is deprecated. NEVER DO THIS!!\n",
    "college.ix[[5, 505, 1301], ['SATMTMID', 'SATVRMID']]"
   ]
  },
  {
   "cell_type": "markdown",
   "metadata": {},
   "source": [
    "### Alternatives to simultaneous selection by labels and integer location\n",
    "In the rare event that you need to do simultaneous selection by label and integer location, you can do one of the following:\n",
    "\n",
    "* Convert the integer locations to labels and use **`.loc`**\n",
    "* Convert the labels to integer locations and use **`.iloc`**"
   ]
  },
  {
   "cell_type": "markdown",
   "metadata": {},
   "source": [
    "#### Convert integer locations to labels\n",
    "To convert integer locations to labels, use the index or columns to select the correct labels."
   ]
  },
  {
   "cell_type": "code",
   "execution_count": null,
   "metadata": {},
   "outputs": [],
   "source": [
    "labels = college.index[[5, 505, 1301]]\n",
    "labels"
   ]
  },
  {
   "cell_type": "code",
   "execution_count": null,
   "metadata": {},
   "outputs": [],
   "source": [
    "college.loc[labels, ['SATMTMID', 'SATVRMID']]"
   ]
  },
  {
   "cell_type": "markdown",
   "metadata": {},
   "source": [
    "#### Convert labels to integer locations\n",
    "Converting labels to integer locations is a bit trickier. The documentation suggests the Index method **`get_loc`** for a single value and **`get_indexer`** for multiple values. These only work with Indexes containing only unique values."
   ]
  },
  {
   "cell_type": "code",
   "execution_count": null,
   "metadata": {},
   "outputs": [],
   "source": [
    "cols = ['SATMTMID', 'SATVRMID']\n",
    "ilocs = college.columns.get_indexer(cols)\n",
    "ilocs"
   ]
  },
  {
   "cell_type": "code",
   "execution_count": null,
   "metadata": {},
   "outputs": [],
   "source": [
    "college.iloc[[5, 505, 1301], ilocs]"
   ]
  },
  {
   "cell_type": "markdown",
   "metadata": {},
   "source": [
    "If you were getting a single column:"
   ]
  },
  {
   "cell_type": "code",
   "execution_count": null,
   "metadata": {},
   "outputs": [],
   "source": [
    "college.iloc[[5, 505, 1301], college.columns.get_loc('SATMTMID')]"
   ]
  },
  {
   "cell_type": "markdown",
   "metadata": {},
   "source": [
    "# Assigning new values to subsets of data\n",
    "The **`SettingWithCopy`** warning is a fairly common, yet important nuisance that will pop up for nearly everyone from time to time. It gets triggered whenever you select a subset of data and then in a separate operation, assign new values to that subset. This is referred to as [chained indexing in the documentation](http://pandas.pydata.org/pandas-docs/stable/indexing.html#why-does-assignment-fail-when-using-chained-indexing).\n",
    "\n",
    "The warning arises because pandas is unable to determine if you want the original DataFrame modified or just the subset. Furthermore, sometimes the original DataFrame is modified and sometimes it isn't. It's very confusing to know what is going on. Let's see some simple, straightforward examples that activate the **`SettingWithCopy`** warning with different results of the original data."
   ]
  },
  {
   "cell_type": "markdown",
   "metadata": {},
   "source": [
    "Make a fresh copy of the college dataset so we don't modify it."
   ]
  },
  {
   "cell_type": "code",
   "execution_count": null,
   "metadata": {
    "collapsed": true
   },
   "outputs": [],
   "source": [
    "c1 = college.copy()\n",
    "c2 = college.copy()"
   ]
  },
  {
   "cell_type": "markdown",
   "metadata": {},
   "source": [
    "Select a column as a Series and as a DataFrame"
   ]
  },
  {
   "cell_type": "code",
   "execution_count": null,
   "metadata": {
    "collapsed": true
   },
   "outputs": [],
   "source": [
    "city1 = c1['CITY']   \n",
    "city2 = c2[['CITY']]"
   ]
  },
  {
   "cell_type": "code",
   "execution_count": null,
   "metadata": {},
   "outputs": [],
   "source": [
    "city1.head()"
   ]
  },
  {
   "cell_type": "code",
   "execution_count": null,
   "metadata": {},
   "outputs": [],
   "source": [
    "city2.head()"
   ]
  },
  {
   "cell_type": "markdown",
   "metadata": {},
   "source": [
    "Make the assignment that triggers the warning"
   ]
  },
  {
   "cell_type": "code",
   "execution_count": null,
   "metadata": {},
   "outputs": [],
   "source": [
    "city1.iloc[2:5] = 'NEW CITY'"
   ]
  },
  {
   "cell_type": "code",
   "execution_count": null,
   "metadata": {},
   "outputs": [],
   "source": [
    "city2.iloc[2:5] = 'NEW CITY'"
   ]
  },
  {
   "cell_type": "markdown",
   "metadata": {},
   "source": [
    "Confirm that our subset has new values"
   ]
  },
  {
   "cell_type": "code",
   "execution_count": null,
   "metadata": {},
   "outputs": [],
   "source": [
    "city1.head()"
   ]
  },
  {
   "cell_type": "code",
   "execution_count": null,
   "metadata": {},
   "outputs": [],
   "source": [
    "city2.head()"
   ]
  },
  {
   "cell_type": "markdown",
   "metadata": {},
   "source": [
    "Look at original data to see what has changed"
   ]
  },
  {
   "cell_type": "code",
   "execution_count": null,
   "metadata": {},
   "outputs": [],
   "source": [
    "c1['CITY'].head()"
   ]
  },
  {
   "cell_type": "code",
   "execution_count": null,
   "metadata": {},
   "outputs": [],
   "source": [
    "c2['CITY'].head()"
   ]
  },
  {
   "cell_type": "markdown",
   "metadata": {},
   "source": [
    "#### Conclusion\n",
    "Selecting a Series creates a **view** of the original, which is then modified. Selecting a DataFrame creates a **copy** of the original.\n",
    "\n",
    "A view is a just a pointer to the original data. A copy is a fresh new object not connected to the original."
   ]
  },
  {
   "cell_type": "markdown",
   "metadata": {},
   "source": [
    "### Double check that we get the same results with `.loc`"
   ]
  },
  {
   "cell_type": "code",
   "execution_count": null,
   "metadata": {
    "collapsed": true
   },
   "outputs": [],
   "source": [
    "idx = ['University of Alabama at Birmingham', 'Amridge University']"
   ]
  },
  {
   "cell_type": "code",
   "execution_count": null,
   "metadata": {},
   "outputs": [],
   "source": [
    "city1.loc[idx] = 'NEW CITY 99999'"
   ]
  },
  {
   "cell_type": "code",
   "execution_count": null,
   "metadata": {},
   "outputs": [],
   "source": [
    "city2.loc[idx] = 'NEW CITY 99999'"
   ]
  },
  {
   "cell_type": "code",
   "execution_count": null,
   "metadata": {},
   "outputs": [],
   "source": [
    "c1['CITY'].head()"
   ]
  },
  {
   "cell_type": "code",
   "execution_count": null,
   "metadata": {},
   "outputs": [],
   "source": [
    "c2[['CITY']].head()"
   ]
  },
  {
   "cell_type": "markdown",
   "metadata": {
    "collapsed": true
   },
   "source": [
    "#### Conclusion\n",
    "The indexer used on the view/copy is irrelevant. The only thing that matters is whether the very first selection creates a copy or a view."
   ]
  },
  {
   "cell_type": "markdown",
   "metadata": {},
   "source": [
    "## Example select rows first with `.iloc`\n",
    "Let's select some rows with **`.iloc`** and then set some values on this subset."
   ]
  },
  {
   "cell_type": "code",
   "execution_count": null,
   "metadata": {},
   "outputs": [],
   "source": [
    "c1 = college.copy()\n",
    "df1 = c1.iloc[:5]  # df1 is our new subset\n",
    "df1"
   ]
  },
  {
   "cell_type": "markdown",
   "metadata": {},
   "source": [
    "Make a couple different assignments"
   ]
  },
  {
   "cell_type": "code",
   "execution_count": null,
   "metadata": {},
   "outputs": [],
   "source": [
    "df1.iloc[:2] = 99\n",
    "df1['STABBR'] = 'TX'"
   ]
  },
  {
   "cell_type": "code",
   "execution_count": null,
   "metadata": {},
   "outputs": [],
   "source": [
    "c1.head()"
   ]
  },
  {
   "cell_type": "markdown",
   "metadata": {},
   "source": [
    "#### Conclusion\n",
    "It appears that **`.iloc`** creates a view and our original data is modified"
   ]
  },
  {
   "cell_type": "markdown",
   "metadata": {},
   "source": [
    "### Exercise 1\n",
    "<span style=\"color:green; font-size:16px\">Use **`.iloc`** to select the first 5 rows and columns. Is a view or copy created?</span>"
   ]
  },
  {
   "cell_type": "code",
   "execution_count": null,
   "metadata": {
    "collapsed": true
   },
   "outputs": [],
   "source": [
    "# your code here"
   ]
  },
  {
   "cell_type": "markdown",
   "metadata": {},
   "source": [
    "### Exercise 2\n",
    "<span style=\"color:green; font-size:16px\">Select a few rows and all the columns with **`.loc`**. Is a view or copy created?</span>"
   ]
  },
  {
   "cell_type": "code",
   "execution_count": null,
   "metadata": {
    "collapsed": true
   },
   "outputs": [],
   "source": [
    "# your code here"
   ]
  },
  {
   "cell_type": "markdown",
   "metadata": {},
   "source": [
    "# Two common scenarios when assigning subsets of data\n",
    "1. You want to make an assignment to a particular subset of your DataFrame but want to keep doing analysis on the entire DataFrame\n",
    "2. You want to select a subset of data and store it as its own variable and modify that subset without modifying your original data.\n",
    "\n",
    "We will cover how to properly handle each scenario with getting the **`SettingWithCopy`** warning.\n",
    "\n",
    "## Scenario 1\n",
    "For scenario 1, you won't be creating a new variable to reference the subset of data. Instead, you will use a single set of brackets to make the assignment. Let's look at a smaller sample dataset to make this clear."
   ]
  },
  {
   "cell_type": "code",
   "execution_count": null,
   "metadata": {},
   "outputs": [],
   "source": [
    "df = pd.read_csv('../data/sample_data.csv', index_col=0)\n",
    "df"
   ]
  },
  {
   "cell_type": "markdown",
   "metadata": {},
   "source": [
    "Let's say, we want to change the color for Aaron and Dean to **`PURPLE`**. Doing this idiomatically with a single set of brackets would look like this:"
   ]
  },
  {
   "cell_type": "code",
   "execution_count": null,
   "metadata": {},
   "outputs": [],
   "source": [
    "df.loc[['Aaron', 'Dean'], 'color'] = 'PURPLE'\n",
    "df"
   ]
  },
  {
   "cell_type": "markdown",
   "metadata": {},
   "source": [
    "#### Incorrect versions\n",
    "It's good to look at improper ways to do this so you can spot this in other code. "
   ]
  },
  {
   "cell_type": "code",
   "execution_count": null,
   "metadata": {},
   "outputs": [],
   "source": [
    "df = pd.read_csv('../data/sample_data.csv', index_col=0)\n",
    "df['color'][['Aaron', 'Dean']] = 'PURPLE'\n",
    "df"
   ]
  },
  {
   "cell_type": "markdown",
   "metadata": {},
   "source": [
    "This was an example of **chained indexing**, which you should never do. The first indexing happens with **`df['color']`**. A temporary object is created which then indexes again with **`[['Aaron', 'Dean']]`**.\n",
    "\n",
    "#### Another incorrect version"
   ]
  },
  {
   "cell_type": "code",
   "execution_count": null,
   "metadata": {},
   "outputs": [],
   "source": [
    "# NO WARNING! Assignment didn't complete. Looks like a bug\n",
    "df = pd.read_csv('../data/sample_data.csv', index_col=0)\n",
    "df.loc[['Aaron', 'Dean']]['color'] = 'PURPLE'\n",
    "df"
   ]
  },
  {
   "cell_type": "markdown",
   "metadata": {},
   "source": [
    "### Using boolean indexing\n",
    "Change the **`score`** of all the people under 30 to 100."
   ]
  },
  {
   "cell_type": "code",
   "execution_count": null,
   "metadata": {},
   "outputs": [],
   "source": [
    "df = pd.read_csv('../data/sample_data.csv', index_col=0)\n",
    "\n",
    "df.loc[df['age'] < 30, 'score'] = 100\n",
    "df"
   ]
  },
  {
   "cell_type": "markdown",
   "metadata": {},
   "source": [
    "### Exercise 1\n",
    "<span style=\"color:green; font-size:16px\">Turn to your neighbors. Explain to them why the following did not work. \n",
    "Write another incorrect version of it as well as a correct version.</span>"
   ]
  },
  {
   "cell_type": "code",
   "execution_count": null,
   "metadata": {},
   "outputs": [],
   "source": [
    "df = pd.read_csv('../data/sample_data.csv', index_col=0)\n",
    "\n",
    "df[df.age < 30]['score'] = 100\n",
    "df"
   ]
  },
  {
   "cell_type": "markdown",
   "metadata": {},
   "source": [
    "### Exercise 2\n",
    "<span style=\"color:green; font-size:16px\">Make the following idiomatic</span>"
   ]
  },
  {
   "cell_type": "code",
   "execution_count": null,
   "metadata": {
    "collapsed": true
   },
   "outputs": [],
   "source": [
    "df = pd.read_csv('../data/sample_data.csv', index_col=0)\n",
    "\n",
    "df.loc[df['color'].isin(['red', 'green']), 'score'] = 99"
   ]
  },
  {
   "cell_type": "code",
   "execution_count": null,
   "metadata": {
    "collapsed": true
   },
   "outputs": [],
   "source": [
    "# your code here"
   ]
  },
  {
   "cell_type": "markdown",
   "metadata": {},
   "source": [
    "### Exercise 3\n",
    "<span style=\"color:green; font-size:16px\">Make the following idiomatic</span>"
   ]
  },
  {
   "cell_type": "code",
   "execution_count": null,
   "metadata": {},
   "outputs": [],
   "source": [
    "df = pd.read_csv('../data/sample_data.csv', index_col=0)\n",
    "\n",
    "df[df['state'] == 'TX'][df['age'] > 30][['height', 'score']] = 99"
   ]
  },
  {
   "cell_type": "code",
   "execution_count": null,
   "metadata": {
    "collapsed": true
   },
   "outputs": [],
   "source": [
    "# your code here"
   ]
  },
  {
   "cell_type": "markdown",
   "metadata": {},
   "source": [
    "### Exercise 4\n",
    "<span style=\"color:green; font-size:16px\">Make the following idiomatic</span>"
   ]
  },
  {
   "cell_type": "code",
   "execution_count": null,
   "metadata": {
    "collapsed": true
   },
   "outputs": [],
   "source": [
    "df = pd.read_csv('../data/sample_data.csv', index_col=0)\n",
    "\n",
    "df.iloc[[6,4,2,3]].iloc[:, :3] = 'CHANGED'"
   ]
  },
  {
   "cell_type": "markdown",
   "metadata": {},
   "source": [
    "### Summary of Scenario 1:\n",
    "* Use exactly one set of brackets to make the assignment \n",
    "* You know you've made a mistake when you see back to back brackets like this **`][`**\n",
    "* Separate row and column selection by a comma with the same set of brackets"
   ]
  },
  {
   "cell_type": "markdown",
   "metadata": {},
   "source": [
    "## Scenario 2\n",
    "Scenario 2 exists when you take a subset of data and want to keep working with just that subset. You may not care at all about the original DataFrame, but you probably won't want to change its data. \n",
    "\n",
    "In this scenario, you will use the **`copy`** method to create a fresh independent copy of your subset and then make changes to that."
   ]
  },
  {
   "cell_type": "code",
   "execution_count": null,
   "metadata": {},
   "outputs": [],
   "source": [
    "df = pd.read_csv('../data/sample_data.csv', index_col=0)\n",
    "df"
   ]
  },
  {
   "cell_type": "markdown",
   "metadata": {},
   "source": [
    "Let's say we are only interested in the **`food`** and **`score`** columns and store those columns as a new variable"
   ]
  },
  {
   "cell_type": "code",
   "execution_count": null,
   "metadata": {
    "collapsed": true
   },
   "outputs": [],
   "source": [
    "food_score = df[['food', 'score']]"
   ]
  },
  {
   "cell_type": "markdown",
   "metadata": {},
   "source": [
    "Now, if we wanted to change the scores of the rows with food equal to steak or lamb to 99 we would do the following, which triggers the warning."
   ]
  },
  {
   "cell_type": "code",
   "execution_count": null,
   "metadata": {},
   "outputs": [],
   "source": [
    "criteria = food_score['food'].isin(['Steak', 'Lamb'])\n",
    "food_score.loc[criteria, 'score'] = 99\n",
    "food_score"
   ]
  },
  {
   "cell_type": "markdown",
   "metadata": {},
   "source": [
    "This warning was triggered by the very first step\n",
    "\n",
    "```\n",
    ">>> food_score = df[['food', 'score']]\n",
    "```\n",
    "\n",
    "The warning will be triggered for any change to this dataset. For instance, let's add a new column:"
   ]
  },
  {
   "cell_type": "code",
   "execution_count": null,
   "metadata": {},
   "outputs": [],
   "source": [
    "food_score['newcol'] = -1\n",
    "food_score"
   ]
  },
  {
   "cell_type": "markdown",
   "metadata": {},
   "source": [
    "Let's look at our original DataFrame to see if it has changed"
   ]
  },
  {
   "cell_type": "code",
   "execution_count": null,
   "metadata": {},
   "outputs": [],
   "source": [
    "df"
   ]
  },
  {
   "cell_type": "markdown",
   "metadata": {},
   "source": [
    "It is still in tact, but pandas does not know whether you wanted it that way. To divorce this new dataset from its original, use the **`copy`** method"
   ]
  },
  {
   "cell_type": "code",
   "execution_count": null,
   "metadata": {},
   "outputs": [],
   "source": [
    "food_score = df[['food', 'score']].copy()\n",
    "\n",
    "criteria = food_score['food'].isin(['Steak', 'Lamb'])\n",
    "food_score.loc[criteria, 'score'] = 99\n",
    "food_score"
   ]
  },
  {
   "cell_type": "code",
   "execution_count": null,
   "metadata": {},
   "outputs": [],
   "source": [
    "food_score['newcol'] = -1\n",
    "food_score"
   ]
  },
  {
   "cell_type": "markdown",
   "metadata": {},
   "source": [
    "Pandas now knows that this is independent from any other DataFrame, so no warning appears."
   ]
  },
  {
   "cell_type": "markdown",
   "metadata": {},
   "source": [
    "### Exercise 5\n",
    "<span style=\"color:green; font-size:16px\">Select the first three rows and first three columns into a new variable and then change all the values to **`CHANGED`** without getting a **`SettingWithCopy`** warning.</span>"
   ]
  },
  {
   "cell_type": "code",
   "execution_count": null,
   "metadata": {
    "collapsed": true
   },
   "outputs": [],
   "source": [
    "# run this first\n",
    "df = pd.read_csv('../data/sample_data.csv', index_col=0)"
   ]
  },
  {
   "cell_type": "code",
   "execution_count": null,
   "metadata": {
    "collapsed": true
   },
   "outputs": [],
   "source": [
    "# your code here"
   ]
  },
  {
   "cell_type": "markdown",
   "metadata": {},
   "source": [
    "## No need to memorize\n",
    "I don't know the rules for when pandas creates a view or a copy. I am always in either scenario 1 or 2 so either change my original DataFrame or force a copy of the subset and continue."
   ]
  },
  {
   "cell_type": "markdown",
   "metadata": {},
   "source": [
    "# Summary\n",
    "* Make sure you know how to use **`[]`**, **`.iloc`**, **`.loc`**\n",
    "* Never use the deprecated **`ix`**\n",
    "* If you need to simultaneously select by label and integer location (rare), convert integers to labels (**`df.index[integers]`**), or labels to integers with (**`Index.get_loc/get_indexer`**) and use **`.loc`** or **`.iloc`**\n",
    "* The **`SettingWithCopy`** is triggered whenever you select a subset of data and try to set a value on this subset.\n",
    "* Use either an assignment with a single set of brackets or the **`copy`** method, depending on what scenario you are in to avoid the warning\n",
    "* See this [excellent blog post](https://www.dataquest.io/blog/settingwithcopywarning/) from Benjamin Pryke on everything you ever wanted to know about the **`SettingWithCopy`** warning"
   ]
  }
 ],
 "metadata": {
  "kernelspec": {
   "display_name": "Python 3",
   "language": "python",
   "name": "python3"
  },
  "language_info": {
   "codemirror_mode": {
    "name": "ipython",
    "version": 3
   },
   "file_extension": ".py",
   "mimetype": "text/x-python",
   "name": "python",
   "nbconvert_exporter": "python",
   "pygments_lexer": "ipython3",
   "version": "3.6.7"
  }
 },
 "nbformat": 4,
 "nbformat_minor": 2
}
